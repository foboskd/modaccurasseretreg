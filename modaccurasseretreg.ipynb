{
 "cells": [
  {
   "cell_type": "markdown",
   "id": "51f269f1",
   "metadata": {},
   "source": [
    "# Оценка точности модели, переобучение, регуляризация"
   ]
  },
  {
   "cell_type": "markdown",
   "id": "767570df",
   "metadata": {},
   "source": [
    "Цель: закрепить знания о математическом смысле метрик TPR, FPR. Изучить построение ROC-кривой, графика Precision-Recall."
   ]
  },
  {
   "cell_type": "markdown",
   "id": "cd841dc1",
   "metadata": {},
   "source": [
    "Описание задания:\n",
    "Решить задачу классификации при помощи обучения модели логистической регрессии. Качество модели оценивается путем подсчета метрик TPR, FPR и построения графиков ROC-кривой, Precision-Recall. Данные для обучения модели хранятся в файле athletes.csv, который можно найти в материалах к занятию."
   ]
  },
  {
   "cell_type": "code",
   "execution_count": 11,
   "id": "4e80dfa0",
   "metadata": {},
   "outputs": [],
   "source": [
    "import pandas as pd"
   ]
  },
  {
   "cell_type": "code",
   "execution_count": 17,
   "id": "c80de833",
   "metadata": {},
   "outputs": [
    {
     "data": {
      "text/html": [
       "<div>\n",
       "<style scoped>\n",
       "    .dataframe tbody tr th:only-of-type {\n",
       "        vertical-align: middle;\n",
       "    }\n",
       "\n",
       "    .dataframe tbody tr th {\n",
       "        vertical-align: top;\n",
       "    }\n",
       "\n",
       "    .dataframe thead th {\n",
       "        text-align: right;\n",
       "    }\n",
       "</style>\n",
       "<table border=\"1\" class=\"dataframe\">\n",
       "  <thead>\n",
       "    <tr style=\"text-align: right;\">\n",
       "      <th></th>\n",
       "      <th>id</th>\n",
       "      <th>name</th>\n",
       "      <th>nationality</th>\n",
       "      <th>sex</th>\n",
       "      <th>dob</th>\n",
       "      <th>height</th>\n",
       "      <th>weight</th>\n",
       "      <th>sport</th>\n",
       "      <th>gold</th>\n",
       "      <th>silver</th>\n",
       "      <th>bronze</th>\n",
       "    </tr>\n",
       "  </thead>\n",
       "  <tbody>\n",
       "    <tr>\n",
       "      <th>0</th>\n",
       "      <td>736041664</td>\n",
       "      <td>A Jesus Garcia</td>\n",
       "      <td>ESP</td>\n",
       "      <td>male</td>\n",
       "      <td>10/17/69</td>\n",
       "      <td>1.72</td>\n",
       "      <td>64.0</td>\n",
       "      <td>athletics</td>\n",
       "      <td>0</td>\n",
       "      <td>0</td>\n",
       "      <td>0</td>\n",
       "    </tr>\n",
       "    <tr>\n",
       "      <th>1</th>\n",
       "      <td>532037425</td>\n",
       "      <td>A Lam Shin</td>\n",
       "      <td>KOR</td>\n",
       "      <td>female</td>\n",
       "      <td>9/23/86</td>\n",
       "      <td>1.68</td>\n",
       "      <td>56.0</td>\n",
       "      <td>fencing</td>\n",
       "      <td>0</td>\n",
       "      <td>0</td>\n",
       "      <td>0</td>\n",
       "    </tr>\n",
       "    <tr>\n",
       "      <th>2</th>\n",
       "      <td>435962603</td>\n",
       "      <td>Aaron Brown</td>\n",
       "      <td>CAN</td>\n",
       "      <td>male</td>\n",
       "      <td>5/27/92</td>\n",
       "      <td>1.98</td>\n",
       "      <td>79.0</td>\n",
       "      <td>athletics</td>\n",
       "      <td>0</td>\n",
       "      <td>0</td>\n",
       "      <td>1</td>\n",
       "    </tr>\n",
       "    <tr>\n",
       "      <th>3</th>\n",
       "      <td>521041435</td>\n",
       "      <td>Aaron Cook</td>\n",
       "      <td>MDA</td>\n",
       "      <td>male</td>\n",
       "      <td>1/2/91</td>\n",
       "      <td>1.83</td>\n",
       "      <td>80.0</td>\n",
       "      <td>taekwondo</td>\n",
       "      <td>0</td>\n",
       "      <td>0</td>\n",
       "      <td>0</td>\n",
       "    </tr>\n",
       "    <tr>\n",
       "      <th>4</th>\n",
       "      <td>33922579</td>\n",
       "      <td>Aaron Gate</td>\n",
       "      <td>NZL</td>\n",
       "      <td>male</td>\n",
       "      <td>11/26/90</td>\n",
       "      <td>1.81</td>\n",
       "      <td>71.0</td>\n",
       "      <td>cycling</td>\n",
       "      <td>0</td>\n",
       "      <td>0</td>\n",
       "      <td>0</td>\n",
       "    </tr>\n",
       "    <tr>\n",
       "      <th>...</th>\n",
       "      <td>...</td>\n",
       "      <td>...</td>\n",
       "      <td>...</td>\n",
       "      <td>...</td>\n",
       "      <td>...</td>\n",
       "      <td>...</td>\n",
       "      <td>...</td>\n",
       "      <td>...</td>\n",
       "      <td>...</td>\n",
       "      <td>...</td>\n",
       "      <td>...</td>\n",
       "    </tr>\n",
       "    <tr>\n",
       "      <th>11533</th>\n",
       "      <td>265605954</td>\n",
       "      <td>Zurian Hechavarria</td>\n",
       "      <td>CUB</td>\n",
       "      <td>female</td>\n",
       "      <td>8/10/95</td>\n",
       "      <td>1.64</td>\n",
       "      <td>58.0</td>\n",
       "      <td>athletics</td>\n",
       "      <td>0</td>\n",
       "      <td>0</td>\n",
       "      <td>0</td>\n",
       "    </tr>\n",
       "    <tr>\n",
       "      <th>11534</th>\n",
       "      <td>214461847</td>\n",
       "      <td>Zuzana Hejnova</td>\n",
       "      <td>CZE</td>\n",
       "      <td>female</td>\n",
       "      <td>12/19/86</td>\n",
       "      <td>1.73</td>\n",
       "      <td>63.0</td>\n",
       "      <td>athletics</td>\n",
       "      <td>0</td>\n",
       "      <td>0</td>\n",
       "      <td>0</td>\n",
       "    </tr>\n",
       "    <tr>\n",
       "      <th>11535</th>\n",
       "      <td>88361042</td>\n",
       "      <td>di Xiao</td>\n",
       "      <td>CHN</td>\n",
       "      <td>male</td>\n",
       "      <td>5/14/91</td>\n",
       "      <td>1.85</td>\n",
       "      <td>100.0</td>\n",
       "      <td>wrestling</td>\n",
       "      <td>0</td>\n",
       "      <td>0</td>\n",
       "      <td>0</td>\n",
       "    </tr>\n",
       "    <tr>\n",
       "      <th>11536</th>\n",
       "      <td>900065925</td>\n",
       "      <td>le Quoc Toan Tran</td>\n",
       "      <td>VIE</td>\n",
       "      <td>male</td>\n",
       "      <td>4/5/89</td>\n",
       "      <td>1.60</td>\n",
       "      <td>56.0</td>\n",
       "      <td>weightlifting</td>\n",
       "      <td>0</td>\n",
       "      <td>0</td>\n",
       "      <td>0</td>\n",
       "    </tr>\n",
       "    <tr>\n",
       "      <th>11537</th>\n",
       "      <td>711404576</td>\n",
       "      <td>le Roux Hamman</td>\n",
       "      <td>RSA</td>\n",
       "      <td>male</td>\n",
       "      <td>1/6/92</td>\n",
       "      <td>1.85</td>\n",
       "      <td>70.0</td>\n",
       "      <td>athletics</td>\n",
       "      <td>0</td>\n",
       "      <td>0</td>\n",
       "      <td>0</td>\n",
       "    </tr>\n",
       "  </tbody>\n",
       "</table>\n",
       "<p>10858 rows × 11 columns</p>\n",
       "</div>"
      ],
      "text/plain": [
       "              id                name nationality     sex       dob  height  \\\n",
       "0      736041664      A Jesus Garcia         ESP    male  10/17/69    1.72   \n",
       "1      532037425          A Lam Shin         KOR  female   9/23/86    1.68   \n",
       "2      435962603         Aaron Brown         CAN    male   5/27/92    1.98   \n",
       "3      521041435          Aaron Cook         MDA    male    1/2/91    1.83   \n",
       "4       33922579          Aaron Gate         NZL    male  11/26/90    1.81   \n",
       "...          ...                 ...         ...     ...       ...     ...   \n",
       "11533  265605954  Zurian Hechavarria         CUB  female   8/10/95    1.64   \n",
       "11534  214461847      Zuzana Hejnova         CZE  female  12/19/86    1.73   \n",
       "11535   88361042             di Xiao         CHN    male   5/14/91    1.85   \n",
       "11536  900065925   le Quoc Toan Tran         VIE    male    4/5/89    1.60   \n",
       "11537  711404576      le Roux Hamman         RSA    male    1/6/92    1.85   \n",
       "\n",
       "       weight          sport  gold  silver  bronze  \n",
       "0        64.0      athletics     0       0       0  \n",
       "1        56.0        fencing     0       0       0  \n",
       "2        79.0      athletics     0       0       1  \n",
       "3        80.0      taekwondo     0       0       0  \n",
       "4        71.0        cycling     0       0       0  \n",
       "...       ...            ...   ...     ...     ...  \n",
       "11533    58.0      athletics     0       0       0  \n",
       "11534    63.0      athletics     0       0       0  \n",
       "11535   100.0      wrestling     0       0       0  \n",
       "11536    56.0  weightlifting     0       0       0  \n",
       "11537    70.0      athletics     0       0       0  \n",
       "\n",
       "[10858 rows x 11 columns]"
      ]
     },
     "execution_count": 17,
     "metadata": {},
     "output_type": "execute_result"
    }
   ],
   "source": [
    "authlets_data = pd.read_csv('athletes.csv')\n",
    "\n",
    "authlets_data_cleaned = authlets_data.dropna()\n",
    "\n",
    "authlets_data_cleaned"
   ]
  },
  {
   "cell_type": "code",
   "execution_count": 19,
   "id": "caa26fac",
   "metadata": {},
   "outputs": [
    {
     "data": {
      "text/html": [
       "<div>\n",
       "<style scoped>\n",
       "    .dataframe tbody tr th:only-of-type {\n",
       "        vertical-align: middle;\n",
       "    }\n",
       "\n",
       "    .dataframe tbody tr th {\n",
       "        vertical-align: top;\n",
       "    }\n",
       "\n",
       "    .dataframe thead th {\n",
       "        text-align: right;\n",
       "    }\n",
       "</style>\n",
       "<table border=\"1\" class=\"dataframe\">\n",
       "  <thead>\n",
       "    <tr style=\"text-align: right;\">\n",
       "      <th></th>\n",
       "      <th>id</th>\n",
       "      <th>name</th>\n",
       "      <th>nationality</th>\n",
       "      <th>sex</th>\n",
       "      <th>dob</th>\n",
       "      <th>height</th>\n",
       "      <th>weight</th>\n",
       "      <th>sport</th>\n",
       "      <th>gold</th>\n",
       "      <th>silver</th>\n",
       "      <th>bronze</th>\n",
       "    </tr>\n",
       "  </thead>\n",
       "  <tbody>\n",
       "    <tr>\n",
       "      <th>0</th>\n",
       "      <td>736041664</td>\n",
       "      <td>0</td>\n",
       "      <td>59</td>\n",
       "      <td>1</td>\n",
       "      <td>611</td>\n",
       "      <td>36</td>\n",
       "      <td>31</td>\n",
       "      <td>2</td>\n",
       "      <td>0</td>\n",
       "      <td>0</td>\n",
       "      <td>0</td>\n",
       "    </tr>\n",
       "    <tr>\n",
       "      <th>1</th>\n",
       "      <td>532037425</td>\n",
       "      <td>1</td>\n",
       "      <td>101</td>\n",
       "      <td>0</td>\n",
       "      <td>5238</td>\n",
       "      <td>32</td>\n",
       "      <td>23</td>\n",
       "      <td>8</td>\n",
       "      <td>0</td>\n",
       "      <td>0</td>\n",
       "      <td>0</td>\n",
       "    </tr>\n",
       "    <tr>\n",
       "      <th>2</th>\n",
       "      <td>435962603</td>\n",
       "      <td>2</td>\n",
       "      <td>33</td>\n",
       "      <td>1</td>\n",
       "      <td>3436</td>\n",
       "      <td>62</td>\n",
       "      <td>46</td>\n",
       "      <td>2</td>\n",
       "      <td>0</td>\n",
       "      <td>0</td>\n",
       "      <td>1</td>\n",
       "    </tr>\n",
       "    <tr>\n",
       "      <th>3</th>\n",
       "      <td>521041435</td>\n",
       "      <td>3</td>\n",
       "      <td>117</td>\n",
       "      <td>1</td>\n",
       "      <td>189</td>\n",
       "      <td>47</td>\n",
       "      <td>47</td>\n",
       "      <td>21</td>\n",
       "      <td>0</td>\n",
       "      <td>0</td>\n",
       "      <td>0</td>\n",
       "    </tr>\n",
       "    <tr>\n",
       "      <th>4</th>\n",
       "      <td>33922579</td>\n",
       "      <td>4</td>\n",
       "      <td>138</td>\n",
       "      <td>1</td>\n",
       "      <td>1197</td>\n",
       "      <td>45</td>\n",
       "      <td>38</td>\n",
       "      <td>6</td>\n",
       "      <td>0</td>\n",
       "      <td>0</td>\n",
       "      <td>0</td>\n",
       "    </tr>\n",
       "    <tr>\n",
       "      <th>...</th>\n",
       "      <td>...</td>\n",
       "      <td>...</td>\n",
       "      <td>...</td>\n",
       "      <td>...</td>\n",
       "      <td>...</td>\n",
       "      <td>...</td>\n",
       "      <td>...</td>\n",
       "      <td>...</td>\n",
       "      <td>...</td>\n",
       "      <td>...</td>\n",
       "      <td>...</td>\n",
       "    </tr>\n",
       "    <tr>\n",
       "      <th>11533</th>\n",
       "      <td>265605954</td>\n",
       "      <td>10835</td>\n",
       "      <td>48</td>\n",
       "      <td>0</td>\n",
       "      <td>4559</td>\n",
       "      <td>28</td>\n",
       "      <td>25</td>\n",
       "      <td>2</td>\n",
       "      <td>0</td>\n",
       "      <td>0</td>\n",
       "      <td>0</td>\n",
       "    </tr>\n",
       "    <tr>\n",
       "      <th>11534</th>\n",
       "      <td>214461847</td>\n",
       "      <td>10836</td>\n",
       "      <td>50</td>\n",
       "      <td>0</td>\n",
       "      <td>1498</td>\n",
       "      <td>37</td>\n",
       "      <td>30</td>\n",
       "      <td>2</td>\n",
       "      <td>0</td>\n",
       "      <td>0</td>\n",
       "      <td>0</td>\n",
       "    </tr>\n",
       "    <tr>\n",
       "      <th>11535</th>\n",
       "      <td>88361042</td>\n",
       "      <td>10837</td>\n",
       "      <td>38</td>\n",
       "      <td>1</td>\n",
       "      <td>3223</td>\n",
       "      <td>49</td>\n",
       "      <td>67</td>\n",
       "      <td>26</td>\n",
       "      <td>0</td>\n",
       "      <td>0</td>\n",
       "      <td>0</td>\n",
       "    </tr>\n",
       "    <tr>\n",
       "      <th>11536</th>\n",
       "      <td>900065925</td>\n",
       "      <td>10838</td>\n",
       "      <td>195</td>\n",
       "      <td>1</td>\n",
       "      <td>3082</td>\n",
       "      <td>24</td>\n",
       "      <td>23</td>\n",
       "      <td>25</td>\n",
       "      <td>0</td>\n",
       "      <td>0</td>\n",
       "      <td>0</td>\n",
       "    </tr>\n",
       "    <tr>\n",
       "      <th>11537</th>\n",
       "      <td>711404576</td>\n",
       "      <td>10839</td>\n",
       "      <td>155</td>\n",
       "      <td>1</td>\n",
       "      <td>447</td>\n",
       "      <td>49</td>\n",
       "      <td>37</td>\n",
       "      <td>2</td>\n",
       "      <td>0</td>\n",
       "      <td>0</td>\n",
       "      <td>0</td>\n",
       "    </tr>\n",
       "  </tbody>\n",
       "</table>\n",
       "<p>10858 rows × 11 columns</p>\n",
       "</div>"
      ],
      "text/plain": [
       "              id   name  nationality  sex   dob  height  weight  sport  gold  \\\n",
       "0      736041664      0           59    1   611      36      31      2     0   \n",
       "1      532037425      1          101    0  5238      32      23      8     0   \n",
       "2      435962603      2           33    1  3436      62      46      2     0   \n",
       "3      521041435      3          117    1   189      47      47     21     0   \n",
       "4       33922579      4          138    1  1197      45      38      6     0   \n",
       "...          ...    ...          ...  ...   ...     ...     ...    ...   ...   \n",
       "11533  265605954  10835           48    0  4559      28      25      2     0   \n",
       "11534  214461847  10836           50    0  1498      37      30      2     0   \n",
       "11535   88361042  10837           38    1  3223      49      67     26     0   \n",
       "11536  900065925  10838          195    1  3082      24      23     25     0   \n",
       "11537  711404576  10839          155    1   447      49      37      2     0   \n",
       "\n",
       "       silver  bronze  \n",
       "0           0       0  \n",
       "1           0       0  \n",
       "2           0       1  \n",
       "3           0       0  \n",
       "4           0       0  \n",
       "...       ...     ...  \n",
       "11533       0       0  \n",
       "11534       0       0  \n",
       "11535       0       0  \n",
       "11536       0       0  \n",
       "11537       0       0  \n",
       "\n",
       "[10858 rows x 11 columns]"
      ]
     },
     "execution_count": 19,
     "metadata": {},
     "output_type": "execute_result"
    }
   ],
   "source": [
    "from sklearn.preprocessing import LabelEncoder\n",
    "\n",
    "authlets_data_cleaned_copy = authlets_data_cleaned.copy()\n",
    "label_encoder = LabelEncoder()\n",
    "\n",
    "authlets_data_cleaned_copy['name'] = label_encoder.fit_transform(authlets_data_cleaned['name'])\n",
    "authlets_data_cleaned_copy['nationality'] = label_encoder.fit_transform(authlets_data_cleaned['nationality'])\n",
    "authlets_data_cleaned_copy['sex'] = label_encoder.fit_transform(authlets_data_cleaned['sex'])\n",
    "authlets_data_cleaned_copy['dob'] = label_encoder.fit_transform(authlets_data_cleaned['dob'])\n",
    "authlets_data_cleaned_copy['height'] = label_encoder.fit_transform(authlets_data_cleaned['height'])\n",
    "authlets_data_cleaned_copy['weight'] = label_encoder.fit_transform(authlets_data_cleaned['weight'])\n",
    "authlets_data_cleaned_copy['sport'] = label_encoder.fit_transform(authlets_data_cleaned['sport'])\n",
    "\n",
    "authlets_data_cleaned_copy\n",
    "\n"
   ]
  },
  {
   "cell_type": "markdown",
   "id": "ddfcbddf",
   "metadata": {},
   "source": [
    "## Разделим выборку на обучающее (80% данных) и тестовое (20% данных) подмножества"
   ]
  },
  {
   "cell_type": "code",
   "execution_count": 23,
   "id": "95c3ef2c",
   "metadata": {},
   "outputs": [],
   "source": [
    "from sklearn.model_selection import train_test_split\n",
    "\n",
    "#В рамках решения задачи по разделению выборки на подмножества предлагаю воспользоваться функцией train_test_split\n",
    "#Изначально произведем извлечение из датафрейма всех признаков кроме целевой переменной income\n",
    "#Извлечение признаков X (все столбцы, кроме 'income')\n",
    "X = authlets_data_cleaned_copy.drop('gold', axis=1)  # axis=1 указывает на столбцы\n",
    "#Извлечение целевой переменной y (столбец 'income')\n",
    "y = authlets_data_cleaned_copy['gold']\n",
    "\n",
    "#Далее воспользуемся заявленной функцией\n",
    "X_train, X_test, y_train, y_test = train_test_split(X, y, test_size=0.2, random_state=42)\n",
    "#Где\n",
    "#X_train, X_test - обучающее и тестовое подмножества признаков\n",
    "#y_train, y_test - соответствующие им целевые переменные\n",
    "#test_size = 0.2 указывает, что 20% данных будет отведено под тестовое множество\n",
    "#random_state = 42 устанавливает начальное значение для генератора случайных чисел, что обеспечивает воспроизводимость разделения данных"
   ]
  },
  {
   "cell_type": "markdown",
   "id": "df1331c2",
   "metadata": {},
   "source": [
    "## Проведем обучение логистической регрессии"
   ]
  },
  {
   "cell_type": "code",
   "execution_count": 34,
   "id": "f6ec4fdd",
   "metadata": {},
   "outputs": [],
   "source": [
    "# Обучение модели логистической регрессии\n",
    "model = LogisticRegression()\n",
    "model.fit(X_train, y_train)\n",
    "\n",
    "# Предсказание вероятностей для положительного класса\n",
    "y_probs = model.predict_proba(X_test)[:, 1]"
   ]
  },
  {
   "cell_type": "markdown",
   "id": "9e9476f8",
   "metadata": {},
   "source": [
    "## Строим ROC-кривую с помощью функции sklearn.metrics.roc_curve"
   ]
  },
  {
   "cell_type": "code",
   "execution_count": 35,
   "id": "03729b3c",
   "metadata": {},
   "outputs": [
    {
     "data": {
      "image/png": "[encoded data removed]",
      "text/plain": [
       "<Figure size 800x600 with 1 Axes>"
      ]
     },
     "metadata": {},
     "output_type": "display_data"
    }
   ],
   "source": [
    "# Вычисление ROC-кривой\n",
    "fpr, tpr, thresholds = roc_curve(y_test, y_probs)\n",
    "\n",
    "# Визуализация ROC-кривой\n",
    "plt.figure(figsize=(8, 6))\n",
    "plt.plot(fpr, tpr, color='blue', lw=2, label='ROC curve')\n",
    "plt.plot([0, 1], [0, 1], color='gray', linestyle='--')  # Линия случайной классификации\n",
    "plt.xlim([0.0, 1.0])\n",
    "plt.ylim([0.0, 1.05])\n",
    "plt.xlabel('False Positive Rate (FPR)')\n",
    "plt.ylabel('True Positive Rate (TPR)')\n",
    "plt.title('ROC Curve')\n",
    "plt.legend(loc=\"lower right\")\n",
    "plt.show()"
   ]
  },
  {
   "cell_type": "markdown",
   "id": "b3c6886b",
   "metadata": {},
   "source": [
    "## Вычисляем значение ROC-AUC метрики с помощью функции sklearn.metrics.roc_auc_score"
   ]
  },
  {
   "cell_type": "code",
   "execution_count": 36,
   "id": "e9308e32",
   "metadata": {},
   "outputs": [
    {
     "name": "stdout",
     "output_type": "stream",
     "text": [
      "Значение ROC-AUC: 0.92\n"
     ]
    }
   ],
   "source": [
    "# Вычисление значения ROC-AUC метрики\n",
    "roc_auc = roc_auc_score(y_test, y_probs)\n",
    "print(f\"Значение ROC-AUC: {roc_auc:.2f}\")"
   ]
  },
  {
   "cell_type": "markdown",
   "id": "c85de11c",
   "metadata": {},
   "source": [
    "## Реализуем подсчет метрик TPR, FPR вручную"
   ]
  },
  {
   "cell_type": "code",
   "execution_count": 37,
   "id": "a9e11d55",
   "metadata": {},
   "outputs": [],
   "source": [
    "import numpy as np\n",
    "\n",
    "def compute_tpr_fpr_manual(y_true, y_pred_probs, threshold):\n",
    "    \"\"\"\n",
    "    Вычисляет TPR и FPR вручную для заданного порога.\n",
    "    \n",
    "    Parameters:\n",
    "    y_true (array): Истинные метки классов (0 или 1)\n",
    "    y_pred_probs (array): Предсказанные вероятности положительного класса\n",
    "    threshold (float): Порог, выше которого предсказание будет считаться положительным\n",
    "    \n",
    "    Returns:\n",
    "    TPR (float): Доля истинно положительных предсказаний (True Positive Rate)\n",
    "    FPR (float): Доля ложно положительных предсказаний (False Positive Rate)\n",
    "    \"\"\"\n",
    "    # Классификация по порогу\n",
    "    y_pred_thresholded = (y_pred_probs >= threshold).astype(int)\n",
    "    \n",
    "    # Подсчет TP, FP, TN, FN\n",
    "    TP = np.sum((y_true == 1) & (y_pred_thresholded == 1))\n",
    "    FP = np.sum((y_true == 0) & (y_pred_thresholded == 1))\n",
    "    TN = np.sum((y_true == 0) & (y_pred_thresholded == 0))\n",
    "    FN = np.sum((y_true == 1) & (y_pred_thresholded == 0))\n",
    "    \n",
    "    # Вычисление TPR и FPR\n",
    "    TPR = TP / (TP + FN) if (TP + FN) != 0 else 0\n",
    "    FPR = FP / (FP + TN) if (FP + TN) != 0 else 0\n",
    "    \n",
    "    return TPR, FPR"
   ]
  },
  {
   "cell_type": "code",
   "execution_count": 38,
   "id": "5028e4e7",
   "metadata": {},
   "outputs": [
    {
     "name": "stdout",
     "output_type": "stream",
     "text": [
      "TPR (вручную): 0.80, FPR (вручную): 0.09\n"
     ]
    }
   ],
   "source": [
    "# Пример вычисления TPR и FPR для порога 0.5\n",
    "threshold = 0.5\n",
    "tpr_manual, fpr_manual = compute_tpr_fpr_manual(y_test, y_probs, threshold)\n",
    "print(f\"TPR (вручную): {tpr_manual:.2f}, FPR (вручную): {fpr_manual:.2f}\")"
   ]
  },
  {
   "cell_type": "markdown",
   "id": "38a30986",
   "metadata": {},
   "source": [
    "## Строим ROC-кривую с помощью вычисленных вручную метрик и объеденение графиков"
   ]
  },
  {
   "cell_type": "markdown",
   "id": "c2de10a9",
   "metadata": {},
   "source": [
    "Чтобы построить ROC-кривую вручную, необходимо пройтись по множеству порогов (от 0 до 1) и для каждого порога вычислить TPR и FPR с помощью функции, созданной в задаче выше."
   ]
  },
  {
   "cell_type": "markdown",
   "id": "a23a3191",
   "metadata": {},
   "source": [
    "__Вычисление TPR и FPR для разных порогов:__"
   ]
  },
  {
   "cell_type": "code",
   "execution_count": 39,
   "id": "6338783b",
   "metadata": {},
   "outputs": [],
   "source": [
    "# Вычисление TPR и FPR вручную для различных порогов\n",
    "thresholds_manual = np.linspace(0, 1, 100)  # Создаем 100 порогов от 0 до 1\n",
    "tpr_list = []\n",
    "fpr_list = []\n",
    "\n",
    "for threshold in thresholds_manual:\n",
    "    tpr, fpr = compute_tpr_fpr_manual(y_test, y_probs, threshold)\n",
    "    tpr_list.append(tpr)\n",
    "    fpr_list.append(fpr)"
   ]
  },
  {
   "cell_type": "markdown",
   "id": "e40b2308",
   "metadata": {},
   "source": [
    "__Визуализация ROC-кривой (ручной и с использованием sklearn):__"
   ]
  },
  {
   "cell_type": "code",
   "execution_count": 40,
   "id": "5202c2cb",
   "metadata": {},
   "outputs": [
    {
     "data": {
      "image/png": "[encoded data removed]",
      "text/plain": [
       "<Figure size 800x600 with 1 Axes>"
      ]
     },
     "metadata": {},
     "output_type": "display_data"
    }
   ],
   "source": [
    "# Построение ROC-кривой с использованием sklearn и вручную\n",
    "plt.figure(figsize=(8, 6))\n",
    "plt.plot(fpr, tpr, color='blue', lw=2, label='ROC curve (sklearn)')\n",
    "plt.plot(fpr_list, tpr_list, color='red', lw=2, linestyle='--', label='ROC curve (manual)')\n",
    "plt.plot([0, 1], [0, 1], color='gray', linestyle='--')  # Линия случайной классификации\n",
    "plt.xlim([0.0, 1.0])\n",
    "plt.ylim([0.0, 1.05])\n",
    "plt.xlabel('False Positive Rate (FPR)')\n",
    "plt.ylabel('True Positive Rate (TPR)')\n",
    "plt.title('ROC Curve (Sklearn vs Manual)')\n",
    "plt.legend(loc=\"lower right\")\n",
    "plt.show()"
   ]
  },
  {
   "cell_type": "markdown",
   "id": "1ced3c2d",
   "metadata": {},
   "source": [
    "## Постройте график Precision-Recall, используя метрики, посчитанные выше"
   ]
  },
  {
   "cell_type": "markdown",
   "id": "93eb3f48",
   "metadata": {},
   "source": [
    "__Функция для вычисления Precision и Recall вручную:__"
   ]
  },
  {
   "cell_type": "code",
   "execution_count": 41,
   "id": "bb324419",
   "metadata": {},
   "outputs": [],
   "source": [
    "def compute_precision_recall_manual(y_true, y_pred_probs, threshold):\n",
    "    \"\"\"\n",
    "    Вычисляет Precision и Recall вручную для заданного порога.\n",
    "    \n",
    "    Parameters:\n",
    "    y_true (array): Истинные метки классов (0 или 1)\n",
    "    y_pred_probs (array): Предсказанные вероятности положительного класса\n",
    "    threshold (float): Порог, выше которого предсказание будет считаться положительным\n",
    "    \n",
    "    Returns:\n",
    "    Precision (float): Точность предсказаний (Precision)\n",
    "    Recall (float): Полнота предсказаний (Recall)\n",
    "    \"\"\"\n",
    "    # Классификация по порогу\n",
    "    y_pred_thresholded = (y_pred_probs >= threshold).astype(int)\n",
    "    \n",
    "    # Подсчет TP, FP, FN\n",
    "    TP = np.sum((y_true == 1) & (y_pred_thresholded == 1))\n",
    "    FP = np.sum((y_true == 0) & (y_pred_thresholded == 1))\n",
    "    FN = np.sum((y_true == 1) & (y_pred_thresholded == 0))\n",
    "    \n",
    "    # Вычисление Precision и Recall\n",
    "    Precision = TP / (TP + FP) if (TP + FP) != 0 else 0\n",
    "    Recall = TP / (TP + FN) if (TP + FN) != 0 else 0\n",
    "    \n",
    "    return Precision, Recall"
   ]
  },
  {
   "cell_type": "markdown",
   "id": "f99f6b60",
   "metadata": {},
   "source": [
    "__Вычисление Precision и Recall для разных порогов:__"
   ]
  },
  {
   "cell_type": "code",
   "execution_count": 42,
   "id": "09b05175",
   "metadata": {},
   "outputs": [],
   "source": [
    "# Вычисление Precision и Recall для различных порогов\n",
    "precision_list = []\n",
    "recall_list = []\n",
    "\n",
    "for threshold in thresholds_manual:\n",
    "    precision, recall = compute_precision_recall_manual(y_test, y_probs, threshold)\n",
    "    precision_list.append(precision)\n",
    "    recall_list.append(recall)"
   ]
  },
  {
   "cell_type": "markdown",
   "id": "820a90fc",
   "metadata": {},
   "source": [
    "__Визуализация графика Precision-Recall:__"
   ]
  },
  {
   "cell_type": "code",
   "execution_count": 43,
   "id": "73b4d9d2",
   "metadata": {},
   "outputs": [
    {
     "data": {
      "image/png": "[encoded data removed]",
      "text/plain": [
       "<Figure size 800x600 with 1 Axes>"
      ]
     },
     "metadata": {},
     "output_type": "display_data"
    }
   ],
   "source": [
    "# Визуализация графика Precision-Recall\n",
    "plt.figure(figsize=(8, 6))\n",
    "plt.plot(recall_list, precision_list, color='green', lw=2)\n",
    "plt.xlabel('Recall')\n",
    "plt.ylabel('Precision')\n",
    "plt.title('Precision-Recall Curve')\n",
    "plt.show()"
   ]
  },
  {
   "cell_type": "markdown",
   "id": "ba319325",
   "metadata": {},
   "source": [
    "## Вычислите значение ROC-AUC метрики, используя метрики, посчитанные вручную"
   ]
  },
  {
   "cell_type": "markdown",
   "id": "222be9bf",
   "metadata": {},
   "source": [
    "Чтобы вычислить значение ROC-AUC метрики вручную, можно воспользоваться методом численного интегрирования, например, методом трапеций.\n",
    "\n",
    "__Вычисление ROC-AUC вручную с использованием TPR и FPR:__"
   ]
  },
  {
   "cell_type": "code",
   "execution_count": 50,
   "id": "e2be29cd",
   "metadata": {},
   "outputs": [
    {
     "name": "stdout",
     "output_type": "stream",
     "text": [
      "Значение ROC-AUC (вручную): 0.92\n"
     ]
    }
   ],
   "source": [
    "from numpy import trapz\n",
    "\n",
    "\n",
    "# Если значения FPR идут в неправильном порядке, сортируем их вместе с TPR\n",
    "if np.any(np.diff(fpr_list) < 0):\n",
    "    sorted_indices = np.argsort(fpr_list)\n",
    "    fpr_list = fpr_list[sorted_indices]\n",
    "    tpr_list = tpr_list[sorted_indices]\n",
    "\n",
    "# Вычисление AUC вручную с использованием метода трапеций\n",
    "roc_auc_manual = trapz(tpr_list, fpr_list)\n",
    "print(f\"Значение ROC-AUC (вручную): {roc_auc_manual:.2f}\")"
   ]
  },
  {
   "cell_type": "markdown",
   "id": "33e178dc",
   "metadata": {},
   "source": [
    "__Выводы:__\n",
    "\n",
    "- ROC-кривые: Обе ROC-кривые (рассчитанная вручную и с помощью sklearn) должны быть практически идентичны. Это подтверждает корректность вычислений вручную.\n",
    "- ROC-AUC: Значение AUC, посчитанное вручную, должно быть аналогично тому, что рассчитано через sklearn.metrics.roc_auc_score, что также подтверждает правильность ручных вычислений.\n",
    "- Precision-Recall кривая: Визуализируя график Precision-Recall, мы получаем дополнительную информацию о точности и полноте модели, что особенно полезно для анализа на несбалансированных выборках."
   ]
  },
  {
   "cell_type": "code",
   "execution_count": null,
   "id": "207611a2",
   "metadata": {},
   "outputs": [],
   "source": []
  },
  {
   "cell_type": "code",
   "execution_count": null,
   "id": "80c76ecc",
   "metadata": {},
   "outputs": [],
   "source": []
  },
  {
   "cell_type": "code",
   "execution_count": null,
   "id": "ae4d3c02",
   "metadata": {},
   "outputs": [],
   "source": []
  },
  {
   "cell_type": "code",
   "execution_count": null,
   "id": "340a0814",
   "metadata": {},
   "outputs": [],
   "source": []
  }
 ],
 "metadata": {
  "kernelspec": {
   "display_name": "Python 3 (ipykernel)",
   "language": "python",
   "name": "python3"
  },
  "language_info": {
   "codemirror_mode": {
    "name": "ipython",
    "version": 3
   },
   "file_extension": ".py",
   "mimetype": "text/x-python",
   "name": "python",
   "nbconvert_exporter": "python",
   "pygments_lexer": "ipython3",
   "version": "3.9.6"
  }
 },
 "nbformat": 4,
 "nbformat_minor": 5
}
